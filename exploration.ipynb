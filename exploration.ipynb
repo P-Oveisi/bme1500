{
 "cells": [
  {
   "cell_type": "code",
   "execution_count": 1,
   "id": "82d9ac14-9574-4c0a-b02c-82e658531829",
   "metadata": {},
   "outputs": [],
   "source": [
    "import mne, fooof, numpy as np, pandas as pd, os, glob, sys\n",
    "from IPython.display import display, Markdown\n",
    "from tqdm import tqdm, trange\n",
    "import matplotlib.pyplot as plt"
   ]
  },
  {
   "cell_type": "code",
   "execution_count": 2,
   "id": "43e8f5e2-ce0f-4aba-80d7-4aa6e1da03fe",
   "metadata": {},
   "outputs": [],
   "source": [
    "projpath=\"/home/tmorshed/projects/def-johngrif/tmorshed/\""
   ]
  },
  {
   "cell_type": "code",
   "execution_count": 3,
   "id": "8345245f-7a02-4c2d-b607-450156d63a5c",
   "metadata": {},
   "outputs": [
    {
     "data": {
      "text/markdown": [
       "success"
      ],
      "text/plain": [
       "<IPython.core.display.Markdown object>"
      ]
     },
     "metadata": {},
     "output_type": "display_data"
    }
   ],
   "source": [
    "datapath=os.path.join(projpath, 'data', 'nmod')\n",
    "gitpath=os.path.join(projpath, 'bme1500')\n",
    "if os.path.exists(datapath) and os.path.exists(gitpath):\n",
    "    display(Markdown(\"success\"))\n",
    "else:\n",
    "    display(Markdown('fix it'))"
   ]
  },
  {
   "cell_type": "code",
   "execution_count": 4,
   "id": "e88ac127-6a4f-4786-8bdf-ed0ab9659d86",
   "metadata": {},
   "outputs": [],
   "source": [
    "os.chdir(datapath)"
   ]
  },
  {
   "cell_type": "code",
   "execution_count": 120,
   "id": "0a62e22f-aa14-4c64-9910-e3547314cad3",
   "metadata": {},
   "outputs": [],
   "source": [
    "def md(input):\n",
    "    display(Markdown(input))\n",
    "    \n",
    "## DATA LOARDERS:\n",
    "\n",
    "def finder():\n",
    "    filesDepth5 = glob.glob('*/*/*/*/*')\n",
    "    dirsDepth5 = filter(lambda f: os.path.isdir(f), filesDepth5)\n",
    "\n",
    "    markers=np.sort(np.array([os.path.join(datapath, f) for f in filesDepth5 if f.endswith('.pkl')]))\n",
    "    npzs=np.sort(np.array([os.path.join(datapath, f) for f in filesDepth5 if f.endswith('.npz')]))\n",
    "    return markers, npzs\n",
    "\n",
    "def load_to_df(markers, npzs, sno):\n",
    "    _marker=pd.read_pickle(markers[sno])\n",
    "    fs=_marker['fs']\n",
    "    dt=1/fs\n",
    "\n",
    "\n",
    "    with open(npzs[sno], 'rb') as f:\n",
    "        _npz=np.load(f)\n",
    "        _data=_npz.f.arr_0\n",
    "        f.close()\n",
    "    del _npz\n",
    "    _df_data=pd.DataFrame(_data,\n",
    "                          index=_marker['chNames'])\n",
    "    _df_data.columns=_df_data.columns*dt\n",
    "\n",
    "    a=pd.DataFrame(np.zeros((np.shape(_data)[-1]), dtype=str))\n",
    "    a.index=a.index*dt\n",
    "\n",
    "    _dfidx = pd.DataFrame([i['type'] for i in _marker['mrk']], index=[i['idx']*dt for i in _marker['mrk']])\n",
    "    _dfidx=_dfidx.drop(labels=_dfidx.index[0])\n",
    "\n",
    "    for i in _dfidx.index:\n",
    "        a.loc[i]=_dfidx.loc[i]\n",
    "\n",
    "    intdict={\"\":0,\n",
    "            \"s\":1,\n",
    "            \"x\":2,\n",
    "            \"na\":3}\n",
    "\n",
    "    for x in intdict:\n",
    "        a=a.replace(x, int(intdict[x]))\n",
    "    a=a.T\n",
    "    a.index=['stim']\n",
    "\n",
    "    _df_data=pd.concat([_df_data, a])\n",
    "    _df_data.columns.names=['t']\n",
    "    _df_data.index.names=['ch']\n",
    "    return _marker, _df_data\n",
    "\n",
    "def df_to_mne(_marker, _df_data):\n",
    "    info = mne.create_info(ch_names=list(_df_data.index), sfreq=_marker['fs'], ch_types=(['eeg']*64)+(['misc']*7)+['stim'])\n",
    "    info['subject_info']={\"id\":_marker['patientId']}\n",
    "    raw=mne.io.RawArray(_df_data,info)\n",
    "    raw.set_montage('standard_1020')\n",
    "    return raw"
   ]
  },
  {
   "cell_type": "code",
   "execution_count": 116,
   "id": "e3486ba1-48ff-4813-b8d9-f2c0b6d21a12",
   "metadata": {},
   "outputs": [
    {
     "data": {
      "text/plain": [
       "Index(['Fp1', 'Fp2', 'F7', 'F3', 'Fz', 'F4', 'F8', 'FC5', 'FC1', 'FC2', 'FC6',\n",
       "       'T7', 'C3', 'Cz', 'C4', 'T8', 'TP9', 'CP5', 'CP1', 'CP2', 'CP6', 'TP10',\n",
       "       'P7', 'P3', 'Pz', 'P4', 'P8', 'PO9', 'O1', 'Oz', 'O2', 'PO10', 'AF7',\n",
       "       'AF3', 'AF4', 'AF8', 'F5', 'F1', 'F2', 'F6', 'FT9', 'FT7', 'FC3', 'FC4',\n",
       "       'FT8', 'FT10', 'C5', 'C1', 'C2', 'C6', 'TP7', 'CP3', 'CPz', 'CP4',\n",
       "       'TP8', 'P5', 'P1', 'P2', 'P6', 'PO7', 'PO3', 'POz', 'PO4', 'PO8', 'LB1',\n",
       "       'LB2', 'LT', 'RB1', 'RB2', 'RT', 'Gonio', 'stim'],\n",
       "      dtype='object', name='ch')"
      ]
     },
     "execution_count": 116,
     "metadata": {},
     "output_type": "execute_result"
    }
   ],
   "source": [
    "_df_data.index"
   ]
  },
  {
   "cell_type": "code",
   "execution_count": 6,
   "id": "69b5d35d-4a65-47a6-9a92-9be6c150a57f",
   "metadata": {},
   "outputs": [],
   "source": [
    "markers, npzs = finder()"
   ]
  },
  {
   "cell_type": "code",
   "execution_count": 7,
   "id": "905aac76-e810-42e3-acb3-2209dedbc54a",
   "metadata": {},
   "outputs": [],
   "source": [
    "_marker, _df_data=load_to_df(markers, npzs, 0)"
   ]
  },
  {
   "cell_type": "markdown",
   "id": "09a2705a-6599-4104-b0d9-5bff1ee49e59",
   "metadata": {},
   "source": [
    "Plotting stimulations:"
   ]
  },
  {
   "cell_type": "code",
   "execution_count": 52,
   "id": "244c9e1f-e2ba-4fcc-807a-d321ec3c0c04",
   "metadata": {},
   "outputs": [
    {
     "data": {
      "text/html": [
       "<div>\n",
       "<style scoped>\n",
       "    .dataframe tbody tr th:only-of-type {\n",
       "        vertical-align: middle;\n",
       "    }\n",
       "\n",
       "    .dataframe tbody tr th {\n",
       "        vertical-align: top;\n",
       "    }\n",
       "\n",
       "    .dataframe thead th {\n",
       "        text-align: right;\n",
       "    }\n",
       "</style>\n",
       "<table border=\"1\" class=\"dataframe\">\n",
       "  <thead>\n",
       "    <tr style=\"text-align: right;\">\n",
       "      <th></th>\n",
       "      <th>0</th>\n",
       "      <th>1</th>\n",
       "      <th>2</th>\n",
       "      <th>3</th>\n",
       "    </tr>\n",
       "  </thead>\n",
       "  <tbody>\n",
       "    <tr>\n",
       "      <th>0</th>\n",
       "      <td></td>\n",
       "      <td>s</td>\n",
       "      <td>x</td>\n",
       "      <td>na</td>\n",
       "    </tr>\n",
       "  </tbody>\n",
       "</table>\n",
       "</div>"
      ],
      "text/plain": [
       "  0  1  2   3\n",
       "0    s  x  na"
      ]
     },
     "metadata": {},
     "output_type": "display_data"
    },
    {
     "data": {
      "image/png": "[encoded data removed]",
      "text/plain": [
       "<Figure size 1440x288 with 1 Axes>"
      ]
     },
     "metadata": {
      "needs_background": "light"
     },
     "output_type": "display_data"
    }
   ],
   "source": [
    "b=np.array(_df_data.iloc[-1,:])\n",
    "fig,ax=plt.subplots(figsize=(20,4))\n",
    "plt.scatter(x=_df_data.columns,y=b, color=\"k\", marker=\"s\")\n",
    "plt.xlabel('time (s)')\n",
    "plt.title('stimulations offered')\n",
    "plt.yticks(np.unique(b))\n",
    "plt.ylabel('stimulation type')\n",
    "display(pd.DataFrame([\"\", \"s\", \"x\", \"na\"]).T)\n",
    "plt.show()"
   ]
  },
  {
   "cell_type": "code",
   "execution_count": 53,
   "id": "748e3c01-14b0-49f7-9e89-f3deefd905c3",
   "metadata": {},
   "outputs": [
    {
     "data": {
      "text/plain": [
       "dict_keys(['fs', 'patientId', 'clinScore', 'chNames', 'stimInt', 'stimCont', 'stimType', 'hemisphere', 'mrk'])"
      ]
     },
     "execution_count": 53,
     "metadata": {},
     "output_type": "execute_result"
    }
   ],
   "source": [
    "_marker.keys()"
   ]
  },
  {
   "cell_type": "code",
   "execution_count": 54,
   "id": "df286dad-9363-40b3-90cd-42f7959d66a0",
   "metadata": {},
   "outputs": [
    {
     "data": {
      "text/html": [
       "<div>\n",
       "<style scoped>\n",
       "    .dataframe tbody tr th:only-of-type {\n",
       "        vertical-align: middle;\n",
       "    }\n",
       "\n",
       "    .dataframe tbody tr th {\n",
       "        vertical-align: top;\n",
       "    }\n",
       "\n",
       "    .dataframe thead th {\n",
       "        text-align: right;\n",
       "    }\n",
       "</style>\n",
       "<table border=\"1\" class=\"dataframe\">\n",
       "  <thead>\n",
       "    <tr style=\"text-align: right;\">\n",
       "      <th>t</th>\n",
       "      <th>0.0000</th>\n",
       "      <th>0.0002</th>\n",
       "      <th>0.0004</th>\n",
       "      <th>0.0006</th>\n",
       "      <th>0.0008</th>\n",
       "      <th>0.0010</th>\n",
       "      <th>0.0012</th>\n",
       "      <th>0.0014</th>\n",
       "      <th>0.0016</th>\n",
       "      <th>0.0018</th>\n",
       "      <th>...</th>\n",
       "      <th>95.8380</th>\n",
       "      <th>95.8382</th>\n",
       "      <th>95.8384</th>\n",
       "      <th>95.8386</th>\n",
       "      <th>95.8388</th>\n",
       "      <th>95.8390</th>\n",
       "      <th>95.8392</th>\n",
       "      <th>95.8394</th>\n",
       "      <th>95.8396</th>\n",
       "      <th>95.8398</th>\n",
       "    </tr>\n",
       "    <tr>\n",
       "      <th>ch</th>\n",
       "      <th></th>\n",
       "      <th></th>\n",
       "      <th></th>\n",
       "      <th></th>\n",
       "      <th></th>\n",
       "      <th></th>\n",
       "      <th></th>\n",
       "      <th></th>\n",
       "      <th></th>\n",
       "      <th></th>\n",
       "      <th></th>\n",
       "      <th></th>\n",
       "      <th></th>\n",
       "      <th></th>\n",
       "      <th></th>\n",
       "      <th></th>\n",
       "      <th></th>\n",
       "      <th></th>\n",
       "      <th></th>\n",
       "      <th></th>\n",
       "      <th></th>\n",
       "    </tr>\n",
       "  </thead>\n",
       "  <tbody>\n",
       "    <tr>\n",
       "      <th>Fp1</th>\n",
       "      <td>0.000187</td>\n",
       "      <td>0.000187</td>\n",
       "      <td>0.000186</td>\n",
       "      <td>0.000184</td>\n",
       "      <td>0.000183</td>\n",
       "      <td>0.000183</td>\n",
       "      <td>0.000183</td>\n",
       "      <td>0.000183</td>\n",
       "      <td>0.000182</td>\n",
       "      <td>0.000183</td>\n",
       "      <td>...</td>\n",
       "      <td>0.000014</td>\n",
       "      <td>0.000012</td>\n",
       "      <td>0.000010</td>\n",
       "      <td>0.000011</td>\n",
       "      <td>0.000011</td>\n",
       "      <td>0.000011</td>\n",
       "      <td>0.000011</td>\n",
       "      <td>0.000018</td>\n",
       "      <td>0.000045</td>\n",
       "      <td>0.000053</td>\n",
       "    </tr>\n",
       "    <tr>\n",
       "      <th>Fp2</th>\n",
       "      <td>-0.000053</td>\n",
       "      <td>-0.000050</td>\n",
       "      <td>-0.000050</td>\n",
       "      <td>-0.000051</td>\n",
       "      <td>-0.000051</td>\n",
       "      <td>-0.000052</td>\n",
       "      <td>-0.000052</td>\n",
       "      <td>-0.000051</td>\n",
       "      <td>-0.000051</td>\n",
       "      <td>-0.000052</td>\n",
       "      <td>...</td>\n",
       "      <td>-0.000023</td>\n",
       "      <td>-0.000025</td>\n",
       "      <td>-0.000026</td>\n",
       "      <td>-0.000025</td>\n",
       "      <td>-0.000025</td>\n",
       "      <td>-0.000026</td>\n",
       "      <td>-0.000026</td>\n",
       "      <td>-0.000015</td>\n",
       "      <td>0.000025</td>\n",
       "      <td>0.000033</td>\n",
       "    </tr>\n",
       "    <tr>\n",
       "      <th>F7</th>\n",
       "      <td>-0.000001</td>\n",
       "      <td>-0.000002</td>\n",
       "      <td>-0.000003</td>\n",
       "      <td>-0.000004</td>\n",
       "      <td>-0.000004</td>\n",
       "      <td>-0.000005</td>\n",
       "      <td>-0.000006</td>\n",
       "      <td>-0.000006</td>\n",
       "      <td>-0.000005</td>\n",
       "      <td>-0.000004</td>\n",
       "      <td>...</td>\n",
       "      <td>0.000005</td>\n",
       "      <td>0.000004</td>\n",
       "      <td>0.000005</td>\n",
       "      <td>0.000006</td>\n",
       "      <td>0.000005</td>\n",
       "      <td>0.000003</td>\n",
       "      <td>0.000002</td>\n",
       "      <td>0.000021</td>\n",
       "      <td>0.000088</td>\n",
       "      <td>0.000086</td>\n",
       "    </tr>\n",
       "    <tr>\n",
       "      <th>F3</th>\n",
       "      <td>0.000018</td>\n",
       "      <td>0.000018</td>\n",
       "      <td>0.000015</td>\n",
       "      <td>0.000014</td>\n",
       "      <td>0.000014</td>\n",
       "      <td>0.000015</td>\n",
       "      <td>0.000014</td>\n",
       "      <td>0.000014</td>\n",
       "      <td>0.000015</td>\n",
       "      <td>0.000016</td>\n",
       "      <td>...</td>\n",
       "      <td>0.000021</td>\n",
       "      <td>0.000019</td>\n",
       "      <td>0.000019</td>\n",
       "      <td>0.000019</td>\n",
       "      <td>0.000020</td>\n",
       "      <td>0.000021</td>\n",
       "      <td>0.000022</td>\n",
       "      <td>0.000024</td>\n",
       "      <td>0.000033</td>\n",
       "      <td>0.000036</td>\n",
       "    </tr>\n",
       "    <tr>\n",
       "      <th>Fz</th>\n",
       "      <td>-0.000053</td>\n",
       "      <td>-0.000054</td>\n",
       "      <td>-0.000057</td>\n",
       "      <td>-0.000061</td>\n",
       "      <td>-0.000061</td>\n",
       "      <td>-0.000060</td>\n",
       "      <td>-0.000060</td>\n",
       "      <td>-0.000060</td>\n",
       "      <td>-0.000060</td>\n",
       "      <td>-0.000059</td>\n",
       "      <td>...</td>\n",
       "      <td>-0.000018</td>\n",
       "      <td>-0.000020</td>\n",
       "      <td>-0.000019</td>\n",
       "      <td>-0.000018</td>\n",
       "      <td>-0.000017</td>\n",
       "      <td>-0.000017</td>\n",
       "      <td>-0.000016</td>\n",
       "      <td>-0.000005</td>\n",
       "      <td>0.000031</td>\n",
       "      <td>0.000017</td>\n",
       "    </tr>\n",
       "  </tbody>\n",
       "</table>\n",
       "<p>5 rows × 479200 columns</p>\n",
       "</div>"
      ],
      "text/plain": [
       "t     0.0000    0.0002    0.0004    0.0006    0.0008    0.0010    0.0012   \\\n",
       "ch                                                                          \n",
       "Fp1  0.000187  0.000187  0.000186  0.000184  0.000183  0.000183  0.000183   \n",
       "Fp2 -0.000053 -0.000050 -0.000050 -0.000051 -0.000051 -0.000052 -0.000052   \n",
       "F7  -0.000001 -0.000002 -0.000003 -0.000004 -0.000004 -0.000005 -0.000006   \n",
       "F3   0.000018  0.000018  0.000015  0.000014  0.000014  0.000015  0.000014   \n",
       "Fz  -0.000053 -0.000054 -0.000057 -0.000061 -0.000061 -0.000060 -0.000060   \n",
       "\n",
       "t     0.0014    0.0016    0.0018   ...   95.8380   95.8382   95.8384  \\\n",
       "ch                                 ...                                 \n",
       "Fp1  0.000183  0.000182  0.000183  ...  0.000014  0.000012  0.000010   \n",
       "Fp2 -0.000051 -0.000051 -0.000052  ... -0.000023 -0.000025 -0.000026   \n",
       "F7  -0.000006 -0.000005 -0.000004  ...  0.000005  0.000004  0.000005   \n",
       "F3   0.000014  0.000015  0.000016  ...  0.000021  0.000019  0.000019   \n",
       "Fz  -0.000060 -0.000060 -0.000059  ... -0.000018 -0.000020 -0.000019   \n",
       "\n",
       "t     95.8386   95.8388   95.8390   95.8392   95.8394   95.8396   95.8398  \n",
       "ch                                                                         \n",
       "Fp1  0.000011  0.000011  0.000011  0.000011  0.000018  0.000045  0.000053  \n",
       "Fp2 -0.000025 -0.000025 -0.000026 -0.000026 -0.000015  0.000025  0.000033  \n",
       "F7   0.000006  0.000005  0.000003  0.000002  0.000021  0.000088  0.000086  \n",
       "F3   0.000019  0.000020  0.000021  0.000022  0.000024  0.000033  0.000036  \n",
       "Fz  -0.000018 -0.000017 -0.000017 -0.000016 -0.000005  0.000031  0.000017  \n",
       "\n",
       "[5 rows x 479200 columns]"
      ]
     },
     "execution_count": 54,
     "metadata": {},
     "output_type": "execute_result"
    }
   ],
   "source": [
    "_df_data.head()"
   ]
  },
  {
   "cell_type": "code",
   "execution_count": 140,
   "id": "b968a6a0-0329-4d00-98f0-51b5fa7db797",
   "metadata": {},
   "outputs": [
    {
     "name": "stdout",
     "output_type": "stream",
     "text": [
      "Creating RawArray with float64 data, n_channels=72, n_times=479200\n",
      "    Range : 0 ... 479199 =      0.000 ...    95.840 secs\n",
      "Ready.\n"
     ]
    },
    {
     "data": {
      "text/html": [
       "<table class=\"table table-hover table-striped table-sm table-responsive small\">\n",
       "    <tr>\n",
       "        <th>Measurement date</th>\n",
       "        \n",
       "        <td>Unknown</td>\n",
       "        \n",
       "    </tr>\n",
       "    <tr>\n",
       "        <th>Experimenter</th>\n",
       "        \n",
       "        <td>Unknown</td>\n",
       "        \n",
       "    </tr>\n",
       "        <th>Participant</th>\n",
       "        \n",
       "            \n",
       "        \n",
       "    </tr>\n",
       "    <tr>\n",
       "        <th>Digitized points</th>\n",
       "        \n",
       "        <td>67 points</td>\n",
       "        \n",
       "    </tr>\n",
       "    <tr>\n",
       "        <th>Good channels</th>\n",
       "        <td>64 EEG, 7 misc, 1 Stimulus</td>\n",
       "    </tr>\n",
       "    <tr>\n",
       "        <th>Bad channels</th>\n",
       "        <td>None</td>\n",
       "    </tr>\n",
       "    <tr>\n",
       "        <th>EOG channels</th>\n",
       "        <td>Not available</td>\n",
       "    </tr>\n",
       "    <tr>\n",
       "        <th>ECG channels</th>\n",
       "        <td>Not available</td>\n",
       "    \n",
       "    <tr>\n",
       "        <th>Sampling frequency</th>\n",
       "        <td>5000.00 Hz</td>\n",
       "    </tr>\n",
       "    \n",
       "    \n",
       "    <tr>\n",
       "        <th>Highpass</th>\n",
       "        <td>0.00 Hz</td>\n",
       "    </tr>\n",
       "    \n",
       "    \n",
       "    <tr>\n",
       "        <th>Lowpass</th>\n",
       "        <td>2500.00 Hz</td>\n",
       "    </tr>\n",
       "    \n",
       "    \n",
       "    \n",
       "    <tr>\n",
       "        <th>Duration</th>\n",
       "        <td>00:01:35 (HH:MM:SS)</td>\n",
       "    </tr>\n",
       "</table>"
      ],
      "text/plain": [
       "<RawArray | 72 x 479200 (95.8 s), ~263.3 MB, data loaded>"
      ]
     },
     "execution_count": 140,
     "metadata": {},
     "output_type": "execute_result"
    }
   ],
   "source": [
    "raw = df_to_mne(_marker, _df_data)\n",
    "fs=float(raw.info['sfreq'])\n",
    "dt=1/fs\n",
    "raw"
   ]
  },
  {
   "cell_type": "code",
   "execution_count": 143,
   "id": "78ae0c70-0207-4afc-a2c3-0a1cc5663717",
   "metadata": {},
   "outputs": [
    {
     "name": "stdout",
     "output_type": "stream",
     "text": [
      "31 events found\n",
      "Event IDs: [1 2]\n"
     ]
    },
    {
     "data": {
      "image/png": "[encoded data removed]",
      "text/plain": [
       "<Figure size 432x288 with 1 Axes>"
      ]
     },
     "metadata": {
      "needs_background": "light"
     },
     "output_type": "display_data"
    }
   ],
   "source": [
    "intdict=dict(s=1, x=2)\n",
    "events=mne.find_events(raw)\n",
    "fig = mne.viz.plot_events(events, sfreq=fs,first_samp=raw.first_samp, event_id=intdict)"
   ]
  },
  {
   "cell_type": "code",
   "execution_count": null,
   "id": "b8f73f0c-8ce0-445a-8ac6-d3f2db60643e",
   "metadata": {},
   "outputs": [],
   "source": [
    "raw.plot();"
   ]
  }
 ],
 "metadata": {
  "kernelspec": {
   "display_name": "mne",
   "language": "python",
   "name": "mne"
  },
  "language_info": {
   "codemirror_mode": {
    "name": "ipython",
    "version": 3
   },
   "file_extension": ".py",
   "mimetype": "text/x-python",
   "name": "python",
   "nbconvert_exporter": "python",
   "pygments_lexer": "ipython3",
   "version": "3.7.7"
  }
 },
 "nbformat": 4,
 "nbformat_minor": 5
}
