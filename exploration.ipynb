{
 "cells": [
  {
   "cell_type": "code",
   "execution_count": null,
   "id": "82d9ac14-9574-4c0a-b02c-82e658531829",
   "metadata": {},
   "outputs": [],
   "source": [
    "import mne, fooof, numpy as np, pandas as pd, os, glob, sys\n",
    "from IPython.display import display, Markdown\n",
    "from tqdm import tqdm, trange\n",
    "import matplotlib.pyplot as plt"
   ]
  },
  {
   "cell_type": "code",
   "execution_count": null,
   "id": "43e8f5e2-ce0f-4aba-80d7-4aa6e1da03fe",
   "metadata": {},
   "outputs": [],
   "source": [
    "projpath=\"/home/tmorshed/projects/def-johngrif/tmorshed/\""
   ]
  },
  {
   "cell_type": "code",
   "execution_count": null,
   "id": "8345245f-7a02-4c2d-b607-450156d63a5c",
   "metadata": {},
   "outputs": [],
   "source": [
    "datapath=os.path.join(projpath, 'data', 'nmod')\n",
    "gitpath=os.path.join(projpath, 'bme1500')\n",
    "if os.path.exists(datapath) and os.path.exists(gitpath):\n",
    "    display(Markdown(\"success\"))\n",
    "else:\n",
    "    display(Markdown('fix it'))"
   ]
  },
  {
   "cell_type": "code",
   "execution_count": null,
   "id": "e88ac127-6a4f-4786-8bdf-ed0ab9659d86",
   "metadata": {},
   "outputs": [],
   "source": [
    "os.chdir(datapath)"
   ]
  },
  {
   "cell_type": "code",
   "execution_count": null,
   "id": "0a62e22f-aa14-4c64-9910-e3547314cad3",
   "metadata": {},
   "outputs": [],
   "source": [
    "def md(input):\n",
    "    display(Markdown(input))\n",
    "    \n",
    "## DATA LOARDERS:\n",
    "\n",
    "def finder():\n",
    "    filesDepth5 = glob.glob('*/*/*/*/*')\n",
    "    dirsDepth5 = filter(lambda f: os.path.isdir(f), filesDepth5)\n",
    "\n",
    "    markers=np.sort(np.array([os.path.join(datapath, f) for f in filesDepth5 if f.endswith('.pkl')]))\n",
    "    npzs=np.sort(np.array([os.path.join(datapath, f) for f in filesDepth5 if f.endswith('.npz')]))\n",
    "    return markers, npzs\n",
    "\n",
    "def load_to_df(markers, npzs, sno):\n",
    "    _marker=pd.read_pickle(markers[sno])\n",
    "    fs=_marker['fs']\n",
    "    dt=1/fs\n",
    "\n",
    "\n",
    "    with open(npzs[sno], 'rb') as f:\n",
    "        _npz=np.load(f)\n",
    "        _data=_npz.f.arr_0\n",
    "        f.close()\n",
    "    del _npz\n",
    "    _df_data=pd.DataFrame(_data,\n",
    "                          index=_marker['chNames'])\n",
    "    _df_data.columns=_df_data.columns*dt\n",
    "\n",
    "    a=pd.DataFrame(np.zeros((np.shape(_data)[-1]), dtype=str))\n",
    "    a.index=a.index*dt\n",
    "\n",
    "    _dfidx = pd.DataFrame([i['type'] for i in _marker['mrk']], index=[i['idx']*dt for i in _marker['mrk']])\n",
    "    _dfidx=_dfidx.drop(labels=_dfidx.index[0])\n",
    "\n",
    "    for i in _dfidx.index:\n",
    "        a.loc[i]=_dfidx.loc[i]\n",
    "\n",
    "    intdict={\"\":0,\n",
    "            \"s\":1,\n",
    "            \"x\":2,\n",
    "            \"na\":3}\n",
    "\n",
    "    for x in intdict:\n",
    "        a=a.replace(x, int(intdict[x]))\n",
    "    a=a.T\n",
    "    a.index=['stim']\n",
    "\n",
    "    _df_data=pd.concat([_df_data, a])\n",
    "    _df_data.columns.names=['t']\n",
    "    _df_data.index.names=['ch']\n",
    "    return _marker, _df_data\n",
    "\n",
    "def df_to_mne(_marker, _df_data):\n",
    "    info = mne.create_info(ch_names=_marker['chNames'], sfreq=_marker['fs'], ch_types=(['eeg']*64)+(['misc']*7))\n",
    "    info['subject_info']={\"id\":_marker['patientId']}\n",
    "    raw=mne.io.RawArray(_df_data.iloc[:-1, :],info)\n",
    "    raw.set_montage('standard_1020')\n",
    "    return raw"
   ]
  },
  {
   "cell_type": "code",
   "execution_count": null,
   "id": "69b5d35d-4a65-47a6-9a92-9be6c150a57f",
   "metadata": {},
   "outputs": [],
   "source": [
    "markers, npzs = finder()"
   ]
  },
  {
   "cell_type": "code",
   "execution_count": null,
   "id": "905aac76-e810-42e3-acb3-2209dedbc54a",
   "metadata": {},
   "outputs": [],
   "source": [
    "_marker, _df_data=load_to_df(markers, npzs, 0)"
   ]
  },
  {
   "cell_type": "markdown",
   "id": "09a2705a-6599-4104-b0d9-5bff1ee49e59",
   "metadata": {},
   "source": [
    "Plotting stimulations:"
   ]
  },
  {
   "cell_type": "code",
   "execution_count": null,
   "id": "8c504483-856e-487c-89ad-5571543c6be8",
   "metadata": {},
   "outputs": [],
   "source": [
    "b=np.array(_df_data.iloc[-1,:])\n",
    "fig,ax=plt.subplots(figsize=(20,4))\n",
    "plt.scatter(x=_df_data.columns,y=b, color=\"k\", marker=\"s\")\n",
    "plt.xlabel('time (s)')\n",
    "plt.title('stimulations offered')\n",
    "plt.yticks(np.unique(b))\n",
    "plt.ylabel('stimulation type')\n",
    "display(pd.DataFrame(intdict, columns=intdict.keys(), index=intdict.values()).iloc[0, :])\n",
    "plt.show()"
   ]
  },
  {
   "cell_type": "code",
   "execution_count": null,
   "id": "748e3c01-14b0-49f7-9e89-f3deefd905c3",
   "metadata": {},
   "outputs": [],
   "source": [
    "_marker.keys()"
   ]
  },
  {
   "cell_type": "code",
   "execution_count": null,
   "id": "df286dad-9363-40b3-90cd-42f7959d66a0",
   "metadata": {},
   "outputs": [],
   "source": [
    "_df_data.head()"
   ]
  },
  {
   "cell_type": "code",
   "execution_count": null,
   "id": "b968a6a0-0329-4d00-98f0-51b5fa7db797",
   "metadata": {},
   "outputs": [],
   "source": [
    "raw = df_to_mne(_marker, _df_data)"
   ]
  },
  {
   "cell_type": "code",
   "execution_count": null,
   "id": "70f2d8c7-3fc4-490c-89d4-aa3a8c5d400f",
   "metadata": {},
   "outputs": [],
   "source": [
    "_df_data.tail()"
   ]
  }
 ],
 "metadata": {
  "kernelspec": {
   "display_name": "mne",
   "language": "python",
   "name": "mne"
  },
  "language_info": {
   "codemirror_mode": {
    "name": "ipython",
    "version": 3
   },
   "file_extension": ".py",
   "mimetype": "text/x-python",
   "name": "python",
   "nbconvert_exporter": "python",
   "pygments_lexer": "ipython3",
   "version": "3.7.7"
  }
 },
 "nbformat": 4,
 "nbformat_minor": 5
}
