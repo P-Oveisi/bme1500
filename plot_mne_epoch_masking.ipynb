{
 "cells": [
  {
   "cell_type": "code",
   "execution_count": null,
   "metadata": {
    "collapsed": false,
    "jupyter": {
     "outputs_hidden": false
    }
   },
   "outputs": [],
   "source": [
    "%matplotlib inline"
   ]
  },
  {
   "cell_type": "markdown",
   "metadata": {},
   "source": [
    "\n",
    "Interface with MNE-python\n",
    "-------------------------\n",
    "This example shows how to use this package with MNE-python.\n",
    "\n",
    "It relies on the function ``raw_to_mask``, which takes as input a MNE.Raw\n",
    "instance and an events array, and returns the corresponding input signals\n",
    "and masks for the ``Comodulogram.fit`` method.\n"
   ]
  },
  {
   "cell_type": "code",
   "execution_count": null,
   "metadata": {
    "collapsed": false,
    "jupyter": {
     "outputs_hidden": false
    }
   },
   "outputs": [],
   "source": [
    "import mne\n",
    "import numpy as np\n",
    "import os.path as op\n",
    "import matplotlib.pyplot as plt\n",
    "\n",
    "from pactools import simulate_pac, raw_to_mask, Comodulogram, MaskIterator"
   ]
  },
  {
   "cell_type": "markdown",
   "metadata": {},
   "source": [
    "Simulate a dataset and save it out\n",
    "\n"
   ]
  },
  {
   "cell_type": "code",
   "execution_count": null,
   "metadata": {
    "collapsed": false,
    "jupyter": {
     "outputs_hidden": false
    }
   },
   "outputs": [],
   "source": [
    "n_events = 100\n",
    "mu = 1.  # mean onset of PAC in seconds\n",
    "sigma = 0.25  # standard deviation of onset of PAC in seconds\n",
    "trial_len = 2.  # len of the simulated trial in seconds\n",
    "first_samp = 5  # seconds before the first sample and after the last\n",
    "\n",
    "fs = 200.  # Hz\n",
    "high_fq = 50.0  # Hz\n",
    "low_fq = 3.0  # Hz\n",
    "low_fq_width = 2.0  # Hz\n",
    "\n",
    "n_points = int(trial_len * fs)\n",
    "noise_level = 0.4\n",
    "\n",
    "\n",
    "def gaussian1d(array, mu, sigma):\n",
    "    return np.exp(-0.5 * ((array - mu) / sigma) ** 2)\n",
    "\n",
    "\n",
    "# leave one channel for events and make signal as long as events\n",
    "# with a bit of room on either side so events don't get cut off\n",
    "signal = np.zeros((2, int(n_points * n_events + 2 * first_samp * fs)))\n",
    "events = np.zeros((n_events, 3), dtype=int)\n",
    "events[:, 0] = np.arange((first_samp + mu) * fs,\n",
    "                         n_points * n_events + (first_samp + mu) * fs,\n",
    "                         trial_len * fs, dtype=int)\n",
    "events[:, 2] = np.ones((n_events))\n",
    "mod_fun = gaussian1d(np.arange(n_points), mu * fs, sigma * fs)\n",
    "for i in range(n_events):\n",
    "    signal_no_pac = simulate_pac(n_points=n_points, fs=fs,\n",
    "                                 high_fq=high_fq, low_fq=low_fq,\n",
    "                                 low_fq_width=low_fq_width,\n",
    "                                 noise_level=1.0, random_state=i)\n",
    "    signal_pac = simulate_pac(n_points=n_points, fs=fs,\n",
    "                              high_fq=high_fq, low_fq=low_fq,\n",
    "                              low_fq_width=low_fq_width,\n",
    "                              noise_level=noise_level, random_state=i)\n",
    "    signal[0, i * n_points:(i + 1) * n_points] = \\\n",
    "        signal_pac * mod_fun + signal_no_pac * (1 - mod_fun)\n",
    "\n",
    "info = mne.create_info(['Ch1', 'STI 014'], fs, ['eeg', 'stim'])\n",
    "raw = mne.io.RawArray(signal, info)\n",
    "raw.add_events(events, stim_channel='STI 014')"
   ]
  },
  {
   "cell_type": "markdown",
   "metadata": {},
   "source": [
    "Let's plot the signal and its power spectral density to visualize the data.\n",
    "As shown in the plots below, there is a peak for the driver frequency at\n",
    "3 Hz and a peak for the carrier frequency at 50 Hz but phase-amplitude\n",
    "coupling cannot be seen in the evoked plot by eye because the signal is\n",
    "averaged over different phases for each epoch.\n",
    "\n"
   ]
  },
  {
   "cell_type": "code",
   "execution_count": null,
   "metadata": {
    "collapsed": false,
    "jupyter": {
     "outputs_hidden": false
    }
   },
   "outputs": [],
   "source": [
    "raw.plot_psd(fmax=60)\n",
    "epochs = mne.Epochs(raw, events, tmin=-3, tmax=3)\n",
    "epochs.average().plot()"
   ]
  },
  {
   "cell_type": "markdown",
   "metadata": {},
   "source": [
    "Let's save the raw object out for input/output demonstration purposes\n",
    "\n"
   ]
  },
  {
   "cell_type": "code",
   "execution_count": null,
   "metadata": {
    "collapsed": false,
    "jupyter": {
     "outputs_hidden": false
    }
   },
   "outputs": [],
   "source": [
    "root = mne.utils._TempDir()\n",
    "raw.save(op.join(root, 'pac_example-raw.fif'))"
   ]
  },
  {
   "cell_type": "markdown",
   "metadata": {},
   "source": [
    "Here we define how to build the epochs: which channels will be selected, and\n",
    "on which time window around each event.\n",
    "\n"
   ]
  },
  {
   "cell_type": "code",
   "execution_count": null,
   "metadata": {
    "collapsed": false,
    "jupyter": {
     "outputs_hidden": false
    }
   },
   "outputs": [],
   "source": [
    "raw = mne.io.Raw(op.join(root, 'pac_example-raw.fif'))\n",
    "events = mne.find_events(raw)\n",
    "\n",
    "# select the time interval around the events\n",
    "tmin, tmax = mu - 3 * sigma, mu + 3 * sigma\n",
    "# select the channels (phase_channel, amplitude_channel)\n",
    "ixs = (0, 0)"
   ]
  },
  {
   "cell_type": "markdown",
   "metadata": {},
   "source": [
    "Then, we create the inputs with the function raw_to_mask, which creates the\n",
    "input arrays and the mask arrays. These arrays are then given to a\n",
    "comodulogram instance with the `fit` method, and the `plot` method draws the\n",
    "results.\n",
    "\n"
   ]
  },
  {
   "cell_type": "code",
   "execution_count": null,
   "metadata": {
    "collapsed": false,
    "jupyter": {
     "outputs_hidden": false
    }
   },
   "outputs": [],
   "source": [
    "# create the input array for Comodulogram.fit\n",
    "\n",
    "low_sig, high_sig, mask = raw_to_mask(raw, ixs=ixs, events=events, tmin=tmin,\n",
    "                                      tmax=tmax)"
   ]
  },
  {
   "cell_type": "markdown",
   "metadata": {},
   "source": [
    "The mask is an iterable which goes over the _unique_ events in the event\n",
    "array (if it is 3D). PAC is estimated where the `mask` is `False`.\n",
    "Alternatively, we could also compute the `MaskIterator` object directly.\n",
    "This is useful if you want to compute PAC on other kinds of time series,\n",
    "for example source time courses.\n",
    "\n"
   ]
  },
  {
   "cell_type": "code",
   "execution_count": null,
   "metadata": {
    "collapsed": false,
    "jupyter": {
     "outputs_hidden": false
    }
   },
   "outputs": [],
   "source": [
    "low_sig, high_sig = raw[ixs[0], :][0], raw[ixs[1], :][0]\n",
    "mask = MaskIterator(events, tmin, tmax, raw.n_times, raw.info['sfreq'])\n",
    "\n",
    "# create the instance of Comodulogram\n",
    "estimator = Comodulogram(fs=raw.info['sfreq'],\n",
    "                         low_fq_range=np.linspace(1, 10, 20), low_fq_width=2.,\n",
    "                         method='duprelatour', progress_bar=True)\n",
    "# compute the comodulogram\n",
    "estimator.fit(low_sig, high_sig, mask)\n",
    "# plot the results\n",
    "estimator.plot(tight_layout=False)\n",
    "plt.show()"
   ]
  }
 ],
 "metadata": {
  "kernelspec": {
   "display_name": "Python 3.8",
   "language": "python",
   "name": "python3"
  },
  "language_info": {
   "codemirror_mode": {
    "name": "ipython",
    "version": 3
   },
   "file_extension": ".py",
   "mimetype": "text/x-python",
   "name": "python",
   "nbconvert_exporter": "python",
   "pygments_lexer": "ipython3",
   "version": "3.8.2"
  }
 },
 "nbformat": 4,
 "nbformat_minor": 4
}
