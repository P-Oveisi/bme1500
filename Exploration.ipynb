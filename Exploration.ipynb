{
 "cells": [
  {
   "cell_type": "code",
   "execution_count": 1,
   "id": "82d9ac14-9574-4c0a-b02c-82e658531829",
   "metadata": {},
   "outputs": [],
   "source": [
    "import mne, fooof, numpy as np, pandas as pd, os, glob, sys\n",
    "from IPython.display import display, Markdown\n",
    "from tqdm import tqdm, trange\n",
    "import matplotlib.pyplot as plt"
   ]
  },
  {
   "cell_type": "code",
   "execution_count": 2,
   "id": "43e8f5e2-ce0f-4aba-80d7-4aa6e1da03fe",
   "metadata": {},
   "outputs": [],
   "source": [
    "projpath=\"/home/tmorshed/projects/def-johngrif/tmorshed/\""
   ]
  },
  {
   "cell_type": "code",
   "execution_count": 49,
   "id": "0a62e22f-aa14-4c64-9910-e3547314cad3",
   "metadata": {},
   "outputs": [],
   "source": [
    "def md(input):\n",
    "    display(Markdown(input))"
   ]
  },
  {
   "cell_type": "code",
   "execution_count": 3,
   "id": "8345245f-7a02-4c2d-b607-450156d63a5c",
   "metadata": {},
   "outputs": [
    {
     "data": {
      "text/markdown": [
       "success"
      ],
      "text/plain": [
       "<IPython.core.display.Markdown object>"
      ]
     },
     "metadata": {},
     "output_type": "display_data"
    }
   ],
   "source": [
    "datapath=os.path.join(projpath, 'data', 'nmod')\n",
    "gitpath=os.path.join(projpath, 'bme1500')\n",
    "if os.path.exists(datapath) and os.path.exists(gitpath):\n",
    "    display(Markdown(\"success\"))\n",
    "else:\n",
    "    display(Markdown('fix it'))"
   ]
  },
  {
   "cell_type": "code",
   "execution_count": 4,
   "id": "e88ac127-6a4f-4786-8bdf-ed0ab9659d86",
   "metadata": {},
   "outputs": [],
   "source": [
    "os.chdir(datapath)"
   ]
  },
  {
   "cell_type": "code",
   "execution_count": 5,
   "id": "71d7e55a-7e8f-4267-b1d7-c6a81d046862",
   "metadata": {},
   "outputs": [],
   "source": [
    "filesDepth5 = glob.glob('*/*/*/*/*')\n",
    "dirsDepth5 = filter(lambda f: os.path.isdir(f), filesDepth5)"
   ]
  },
  {
   "cell_type": "code",
   "execution_count": 8,
   "id": "08b3b550-584a-4721-8ddb-f905785b5dd9",
   "metadata": {},
   "outputs": [],
   "source": [
    "markers=np.sort(np.array([os.path.join(datapath, f) for f in filesDepth5 if f.endswith('.pkl')]))\n",
    "npzs=np.sort(np.array([os.path.join(datapath, f) for f in filesDepth5 if f.endswith('.npz')]))\n",
    "_marker=pd.read_pickle(markers[0])\n",
    "fs=_marker['fs']\n",
    "dt=1/fs"
   ]
  },
  {
   "cell_type": "code",
   "execution_count": 9,
   "id": "e3c5b735-e5ed-4be9-bb82-cf21b939609b",
   "metadata": {},
   "outputs": [
    {
     "data": {
      "text/plain": [
       "{'fs': 5000.0,\n",
       " 'patientId': 0,\n",
       " 'clinScore': 2,\n",
       " 'chNames': ['Fp1',\n",
       "  'Fp2',\n",
       "  'F7',\n",
       "  'F3',\n",
       "  'Fz',\n",
       "  'F4',\n",
       "  'F8',\n",
       "  'FC5',\n",
       "  'FC1',\n",
       "  'FC2',\n",
       "  'FC6',\n",
       "  'T7',\n",
       "  'C3',\n",
       "  'Cz',\n",
       "  'C4',\n",
       "  'T8',\n",
       "  'TP9',\n",
       "  'CP5',\n",
       "  'CP1',\n",
       "  'CP2',\n",
       "  'CP6',\n",
       "  'TP10',\n",
       "  'P7',\n",
       "  'P3',\n",
       "  'Pz',\n",
       "  'P4',\n",
       "  'P8',\n",
       "  'PO9',\n",
       "  'O1',\n",
       "  'Oz',\n",
       "  'O2',\n",
       "  'PO10',\n",
       "  'AF7',\n",
       "  'AF3',\n",
       "  'AF4',\n",
       "  'AF8',\n",
       "  'F5',\n",
       "  'F1',\n",
       "  'F2',\n",
       "  'F6',\n",
       "  'FT9',\n",
       "  'FT7',\n",
       "  'FC3',\n",
       "  'FC4',\n",
       "  'FT8',\n",
       "  'FT10',\n",
       "  'C5',\n",
       "  'C1',\n",
       "  'C2',\n",
       "  'C6',\n",
       "  'TP7',\n",
       "  'CP3',\n",
       "  'CPz',\n",
       "  'CP4',\n",
       "  'TP8',\n",
       "  'P5',\n",
       "  'P1',\n",
       "  'P2',\n",
       "  'P6',\n",
       "  'PO7',\n",
       "  'PO3',\n",
       "  'POz',\n",
       "  'PO4',\n",
       "  'PO8',\n",
       "  'LB1',\n",
       "  'LB2',\n",
       "  'LT',\n",
       "  'RB1',\n",
       "  'RB2',\n",
       "  'RT',\n",
       "  'Gonio'],\n",
       " 'stimInt': 0,\n",
       " 'stimCont': 3,\n",
       " 'stimType': 'ring',\n",
       " 'hemisphere': 'L',\n",
       " 'mrk': [{'type': '', 'idx': 1},\n",
       "  {'type': 's', 'idx': 144601},\n",
       "  {'type': 'x', 'idx': 154401},\n",
       "  {'type': 'x', 'idx': 164201},\n",
       "  {'type': 'x', 'idx': 174401},\n",
       "  {'type': 'x', 'idx': 184401},\n",
       "  {'type': 'x', 'idx': 194401},\n",
       "  {'type': 'x', 'idx': 204401},\n",
       "  {'type': 'x', 'idx': 214401},\n",
       "  {'type': 'x', 'idx': 224201},\n",
       "  {'type': 'x', 'idx': 234401},\n",
       "  {'type': 'x', 'idx': 244401},\n",
       "  {'type': 'x', 'idx': 254201},\n",
       "  {'type': 'x', 'idx': 264401},\n",
       "  {'type': 'x', 'idx': 274201},\n",
       "  {'type': 'x', 'idx': 284201},\n",
       "  {'type': 'x', 'idx': 294401},\n",
       "  {'type': 'x', 'idx': 304201},\n",
       "  {'type': 'x', 'idx': 314201},\n",
       "  {'type': 'x', 'idx': 324401},\n",
       "  {'type': 'x', 'idx': 334201},\n",
       "  {'type': 'x', 'idx': 344201},\n",
       "  {'type': 'x', 'idx': 354401},\n",
       "  {'type': 'x', 'idx': 364201},\n",
       "  {'type': 'x', 'idx': 374401},\n",
       "  {'type': 'x', 'idx': 384201},\n",
       "  {'type': 'x', 'idx': 394201},\n",
       "  {'type': 'x', 'idx': 404401},\n",
       "  {'type': 'x', 'idx': 414201},\n",
       "  {'type': 'x', 'idx': 424401},\n",
       "  {'type': 'x', 'idx': 434401},\n",
       "  {'type': 'x', 'idx': 444201}]}"
      ]
     },
     "execution_count": 9,
     "metadata": {},
     "output_type": "execute_result"
    }
   ],
   "source": [
    "_marker"
   ]
  },
  {
   "cell_type": "code",
   "execution_count": 10,
   "id": "36f2e658-07e3-464c-821a-564205df7e73",
   "metadata": {},
   "outputs": [],
   "source": [
    "_npz=np.load(npzs[0])\n",
    "_data=_npz.f.arr_0\n",
    "del _npz"
   ]
  },
  {
   "cell_type": "code",
   "execution_count": 11,
   "id": "cad7fa1b-4a93-4693-8873-48599893f790",
   "metadata": {},
   "outputs": [],
   "source": [
    "_df_data=pd.DataFrame(_data,\n",
    "                      index=_marker['chNames'])\n",
    "_df_data.columns=_df_data.columns*dt\n",
    "_df_data.columns.names=['t']\n",
    "_df_data.index.names=['ch']"
   ]
  },
  {
   "cell_type": "code",
   "execution_count": 20,
   "id": "b92db849-ea04-41ad-aeed-f0035365d205",
   "metadata": {},
   "outputs": [
    {
     "name": "stderr",
     "output_type": "stream",
     "text": [
      "100%|██████████| 31/31 [00:00<00:00, 1641.52it/s]\n"
     ]
    }
   ],
   "source": [
    "## ADD THE STIM FROM .pkl FILE\n",
    "\n",
    "a=pd.DataFrame(np.zeros((np.shape(_data)[-1]), dtype=str))\n",
    "a.index=a.index*dt\n",
    "\n",
    "_dfidx = pd.DataFrame([i['type'] for i in _marker['mrk']], index=[i['idx']*dt for i in _marker['mrk']])\n",
    "_dfidx=_dfidx.drop(labels=_dfidx.index[0])\n",
    "\n",
    "for i in tqdm(_dfidx.index):\n",
    "    a.loc[i]=_dfidx.loc[i]\n",
    "    \n",
    "intdict={\"\":0,\n",
    "        \"s\":1,\n",
    "        \"x\":2,\n",
    "        \"na\":3}\n",
    "\n",
    "for x in intdict:\n",
    "    a=a.replace(x, int(intdict[x]))\n",
    "a=a.T\n",
    "a.index=['stim']\n",
    "\n",
    "_df_data=pd.concat([_df_data, a])"
   ]
  },
  {
   "cell_type": "code",
   "execution_count": 21,
   "id": "32fb594c-c348-4bb6-884a-fb5acd540f33",
   "metadata": {},
   "outputs": [],
   "source": [
    "a.columns.names=['t']"
   ]
  },
  {
   "cell_type": "code",
   "execution_count": 22,
   "id": "7a847db2-d59a-481c-82f5-b03a1f1f718c",
   "metadata": {},
   "outputs": [],
   "source": [
    "b=np.array(a)[0]"
   ]
  },
  {
   "cell_type": "code",
   "execution_count": null,
   "id": "8c504483-856e-487c-89ad-5571543c6be8",
   "metadata": {},
   "outputs": [
    {
     "ename": "TypeError",
     "evalue": "Markdown expects text, not ('|0|none|', '1:s, 2:x')",
     "output_type": "error",
     "traceback": [
      "\u001b[0;31m---------------------------------------------------------------------------\u001b[0m",
      "\u001b[0;31mTypeError\u001b[0m                                 Traceback (most recent call last)",
      "\u001b[0;32m/tmp/ipykernel_898929/537207594.py\u001b[0m in \u001b[0;36m<module>\u001b[0;34m\u001b[0m\n\u001b[1;32m      5\u001b[0m \u001b[0mplt\u001b[0m\u001b[0;34m.\u001b[0m\u001b[0myticks\u001b[0m\u001b[0;34m(\u001b[0m\u001b[0mnp\u001b[0m\u001b[0;34m.\u001b[0m\u001b[0munique\u001b[0m\u001b[0;34m(\u001b[0m\u001b[0mb\u001b[0m\u001b[0;34m)\u001b[0m\u001b[0;34m)\u001b[0m\u001b[0;34m\u001b[0m\u001b[0;34m\u001b[0m\u001b[0m\n\u001b[1;32m      6\u001b[0m \u001b[0mplt\u001b[0m\u001b[0;34m.\u001b[0m\u001b[0mylabel\u001b[0m\u001b[0;34m(\u001b[0m\u001b[0;34m'stimulation type'\u001b[0m\u001b[0;34m)\u001b[0m\u001b[0;34m\u001b[0m\u001b[0;34m\u001b[0m\u001b[0m\n\u001b[0;32m----> 7\u001b[0;31m md(('|0|none|',\n\u001b[0m\u001b[1;32m      8\u001b[0m    '1:s, 2:x'))\n\u001b[1;32m      9\u001b[0m \u001b[0mplt\u001b[0m\u001b[0;34m.\u001b[0m\u001b[0mshow\u001b[0m\u001b[0;34m(\u001b[0m\u001b[0;34m)\u001b[0m\u001b[0;34m\u001b[0m\u001b[0;34m\u001b[0m\u001b[0m\n",
      "\u001b[0;32m/tmp/ipykernel_898929/4012490155.py\u001b[0m in \u001b[0;36mmd\u001b[0;34m(input)\u001b[0m\n\u001b[1;32m      1\u001b[0m \u001b[0;32mdef\u001b[0m \u001b[0mmd\u001b[0m\u001b[0;34m(\u001b[0m\u001b[0minput\u001b[0m\u001b[0;34m)\u001b[0m\u001b[0;34m:\u001b[0m\u001b[0;34m\u001b[0m\u001b[0;34m\u001b[0m\u001b[0m\n\u001b[0;32m----> 2\u001b[0;31m     \u001b[0mdisplay\u001b[0m\u001b[0;34m(\u001b[0m\u001b[0mMarkdown\u001b[0m\u001b[0;34m(\u001b[0m\u001b[0minput\u001b[0m\u001b[0;34m)\u001b[0m\u001b[0;34m)\u001b[0m\u001b[0;34m\u001b[0m\u001b[0;34m\u001b[0m\u001b[0m\n\u001b[0m",
      "\u001b[0;32m~/scratch/mne/lib/python3.7/site-packages/IPython/core/display.py\u001b[0m in \u001b[0;36m__init__\u001b[0;34m(self, data, url, filename, metadata)\u001b[0m\n\u001b[1;32m    636\u001b[0m \u001b[0;34m\u001b[0m\u001b[0m\n\u001b[1;32m    637\u001b[0m         \u001b[0mself\u001b[0m\u001b[0;34m.\u001b[0m\u001b[0mreload\u001b[0m\u001b[0;34m(\u001b[0m\u001b[0;34m)\u001b[0m\u001b[0;34m\u001b[0m\u001b[0;34m\u001b[0m\u001b[0m\n\u001b[0;32m--> 638\u001b[0;31m         \u001b[0mself\u001b[0m\u001b[0;34m.\u001b[0m\u001b[0m_check_data\u001b[0m\u001b[0;34m(\u001b[0m\u001b[0;34m)\u001b[0m\u001b[0;34m\u001b[0m\u001b[0;34m\u001b[0m\u001b[0m\n\u001b[0m\u001b[1;32m    639\u001b[0m \u001b[0;34m\u001b[0m\u001b[0m\n\u001b[1;32m    640\u001b[0m     \u001b[0;32mdef\u001b[0m \u001b[0m__repr__\u001b[0m\u001b[0;34m(\u001b[0m\u001b[0mself\u001b[0m\u001b[0;34m)\u001b[0m\u001b[0;34m:\u001b[0m\u001b[0;34m\u001b[0m\u001b[0;34m\u001b[0m\u001b[0m\n",
      "\u001b[0;32m~/scratch/mne/lib/python3.7/site-packages/IPython/core/display.py\u001b[0m in \u001b[0;36m_check_data\u001b[0;34m(self)\u001b[0m\n\u001b[1;32m    698\u001b[0m     \u001b[0;32mdef\u001b[0m \u001b[0m_check_data\u001b[0m\u001b[0;34m(\u001b[0m\u001b[0mself\u001b[0m\u001b[0;34m)\u001b[0m\u001b[0;34m:\u001b[0m\u001b[0;34m\u001b[0m\u001b[0;34m\u001b[0m\u001b[0m\n\u001b[1;32m    699\u001b[0m         \u001b[0;32mif\u001b[0m \u001b[0mself\u001b[0m\u001b[0;34m.\u001b[0m\u001b[0mdata\u001b[0m \u001b[0;32mis\u001b[0m \u001b[0;32mnot\u001b[0m \u001b[0;32mNone\u001b[0m \u001b[0;32mand\u001b[0m \u001b[0;32mnot\u001b[0m \u001b[0misinstance\u001b[0m\u001b[0;34m(\u001b[0m\u001b[0mself\u001b[0m\u001b[0;34m.\u001b[0m\u001b[0mdata\u001b[0m\u001b[0;34m,\u001b[0m \u001b[0mstr\u001b[0m\u001b[0;34m)\u001b[0m\u001b[0;34m:\u001b[0m\u001b[0;34m\u001b[0m\u001b[0;34m\u001b[0m\u001b[0m\n\u001b[0;32m--> 700\u001b[0;31m             \u001b[0;32mraise\u001b[0m \u001b[0mTypeError\u001b[0m\u001b[0;34m(\u001b[0m\u001b[0;34m\"%s expects text, not %r\"\u001b[0m \u001b[0;34m%\u001b[0m \u001b[0;34m(\u001b[0m\u001b[0mself\u001b[0m\u001b[0;34m.\u001b[0m\u001b[0m__class__\u001b[0m\u001b[0;34m.\u001b[0m\u001b[0m__name__\u001b[0m\u001b[0;34m,\u001b[0m \u001b[0mself\u001b[0m\u001b[0;34m.\u001b[0m\u001b[0mdata\u001b[0m\u001b[0;34m)\u001b[0m\u001b[0;34m)\u001b[0m\u001b[0;34m\u001b[0m\u001b[0;34m\u001b[0m\u001b[0m\n\u001b[0m\u001b[1;32m    701\u001b[0m \u001b[0;34m\u001b[0m\u001b[0m\n\u001b[1;32m    702\u001b[0m \u001b[0;32mclass\u001b[0m \u001b[0mPretty\u001b[0m\u001b[0;34m(\u001b[0m\u001b[0mTextDisplayObject\u001b[0m\u001b[0;34m)\u001b[0m\u001b[0;34m:\u001b[0m\u001b[0;34m\u001b[0m\u001b[0;34m\u001b[0m\u001b[0m\n",
      "\u001b[0;31mTypeError\u001b[0m: Markdown expects text, not ('|0|none|', '1:s, 2:x')"
     ]
    },
    {
     "data": {
      "image/png": "[encoded data removed]",
      "text/plain": [
       "<Figure size 1440x288 with 1 Axes>"
      ]
     },
     "metadata": {
      "needs_background": "light"
     },
     "output_type": "display_data"
    }
   ],
   "source": [
    "fig,ax=plt.subplots(figsize=(20,4))\n",
    "plt.scatter(x=_df_data.columns,y=b, color=\"k\", marker=\"s\")\n",
    "plt.xlabel('time (s)')\n",
    "plt.title('stimulations offered')\n",
    "plt.yticks(np.unique(b))\n",
    "plt.ylabel('stimulation type')\n",
    "md()\n",
    "plt.show()"
   ]
  }
 ],
 "metadata": {
  "kernelspec": {
   "display_name": "mne",
   "language": "python",
   "name": "mne"
  },
  "language_info": {
   "codemirror_mode": {
    "name": "ipython",
    "version": 3
   },
   "file_extension": ".py",
   "mimetype": "text/x-python",
   "name": "python",
   "nbconvert_exporter": "python",
   "pygments_lexer": "ipython3",
   "version": "3.7.7"
  }
 },
 "nbformat": 4,
 "nbformat_minor": 5
}
